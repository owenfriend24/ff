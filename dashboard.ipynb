{
 "cells": [
  {
   "cell_type": "code",
   "execution_count": 83,
   "id": "3ba7cb8f-27f3-48e3-9f1d-b25ce875f64b",
   "metadata": {},
   "outputs": [],
   "source": [
    "import pandas as pd\n",
    "import ipywidgets as widgets\n",
    "import seaborn as sns\n",
    "import numpy as np\n",
    "import ipympl\n",
    "from ipywidgets import widgets, VBox, HBox\n",
    "from IPython.display import display, clear_output\n",
    "import matplotlib\n",
    "import matplotlib.pyplot as plt"
   ]
  },
  {
   "cell_type": "markdown",
   "id": "799d2fe2-788b-4a05-9f5f-c35495b21979",
   "metadata": {},
   "source": [
    "### Plot metrics by owner - regular season and playoffs"
   ]
  },
  {
   "cell_type": "code",
   "execution_count": 208,
   "id": "27270d77-fe7f-4564-9198-3b26bd5d0d9a",
   "metadata": {
    "jupyter": {
     "source_hidden": true
    }
   },
   "outputs": [
    {
     "data": {
      "application/vnd.jupyter.widget-view+json": {
       "model_id": "11c6409a89e94b8a9549b9ccd0ede30e",
       "version_major": 2,
       "version_minor": 0
      },
      "text/plain": [
       "HTML(value=\"<b style='font-size:16px;'>Select Owners:</b>\")"
      ]
     },
     "metadata": {},
     "output_type": "display_data"
    },
    {
     "data": {
      "application/vnd.jupyter.widget-view+json": {
       "model_id": "1f49cf32dc1445c495fdd517d03c8e23",
       "version_major": 2,
       "version_minor": 0
      },
      "text/plain": [
       "VBox(children=(HBox(children=(Checkbox(value=True, description='Jake'), Checkbox(value=True, description='John…"
      ]
     },
     "metadata": {},
     "output_type": "display_data"
    },
    {
     "data": {
      "application/vnd.jupyter.widget-view+json": {
       "model_id": "e4938f0354a2467eb6dfafefd29f8bd5",
       "version_major": 2,
       "version_minor": 0
      },
      "text/plain": [
       "Dropdown(description='Y-Axis:', layout=Layout(width='300px'), options=('Total Wins', 'Total Losses', 'All-Time…"
      ]
     },
     "metadata": {},
     "output_type": "display_data"
    },
    {
     "data": {
      "application/vnd.jupyter.widget-view+json": {
       "model_id": "4cdd189746b04cd89b8099c48b17b7c6",
       "version_major": 2,
       "version_minor": 0
      },
      "text/plain": [
       "Output()"
      ]
     },
     "metadata": {},
     "output_type": "display_data"
    }
   ],
   "source": [
    "\n",
    "# Full dataset\n",
    "data = pd.read_csv('owner_summary.csv')\n",
    "\n",
    "# Extract unique names, sorted alphabetically for consistent color mapping\n",
    "unique_names = sorted(data['owner'].unique().tolist())\n",
    "\n",
    "# Define formatted labels for dropdown menu\n",
    "y_axis_options = {\n",
    "    \"Total Wins\": \"total_wins\",\n",
    "    \"Total Losses\": \"total_losses\",\n",
    "    \"All-Time Win Percentage\": \"win_percentage\",\n",
    "    \"Total Points For\": \"total_pts_for\",\n",
    "    \"Total Points Against\": \"total_pts_against\",\n",
    "    \"Average Wins per Season\": \"avg_wins\",\n",
    "    \"Average Losses per Season\": \"avg_losses\",\n",
    "    \"Average Points For per Season\": \"avg_pts_for\",\n",
    "    \"Average Points Against per Season\": \"avg_pts_against\",\n",
    "    \"Average Regular Season Rank\": \"avg_reg_szn_rank\",\n",
    "    \"Average Final Rank\": \"avg_final_rank\",\n",
    "    \"Total Championships\": \"total_championships\"\n",
    "}\n",
    "\n",
    "# Metrics that should be displayed as **integers**\n",
    "int_metrics = {\"total_wins\", \"total_losses\", \"avg_reg_szn_rank\", \"avg_final_rank\", \"total_championships\"}\n",
    "\n",
    "# Define which metrics should have an inverted Y-axis\n",
    "inverted_metrics = {\"avg_reg_szn_rank\", \"avg_final_rank\"}\n",
    "\n",
    "# Define a custom hex color palette (mapped alphabetically)\n",
    "custom_hex_palette = [\n",
    "    \"#900c3f\", \"#182b55\", \"#5f4e94\", \"#a291c7\",\n",
    "    \"#82cbec\", \"#d94f21\", \"#febd2b\", \"#9aab4b\"\n",
    "]\n",
    "\n",
    "# Ensure color mapping is assigned alphabetically\n",
    "name_color_map = {name: custom_hex_palette[i % len(custom_hex_palette)] for i, name in enumerate(unique_names)}\n",
    "\n",
    "# Create name checkboxes (organized into rows of 4)\n",
    "name_checkboxes = {owner: widgets.Checkbox(value=True, description=str(owner)) for owner in unique_names}\n",
    "name_box = widgets.VBox([widgets.HBox(list(name_checkboxes.values())[i:i+4]) for i in range(0, len(unique_names), 4)])\n",
    "\n",
    "# Dropdown for selecting the Y-axis variable (formatted labels)\n",
    "y_axis_dropdown = widgets.Dropdown(\n",
    "    options=list(y_axis_options.keys()),  \n",
    "    value=\"Total Wins\",  \n",
    "    description=\"Y-Axis:\",\n",
    "    style={'description_width': 'initial'},  \n",
    "    layout=widgets.Layout(width='300px')  \n",
    ")\n",
    "\n",
    "# Output widget to contain the plot\n",
    "output = widgets.Output()\n",
    "\n",
    "# Function to Update the Plot\n",
    "def update_plot(change=None):  \n",
    "    with output:\n",
    "        clear_output(wait=True)  \n",
    "\n",
    "        # Get selected names\n",
    "        selected_names = [name for name, checkbox in name_checkboxes.items() if checkbox.value]\n",
    "\n",
    "        # Get selected Y-axis variable (convert display name to actual column name)\n",
    "        y_axis_variable = y_axis_options[y_axis_dropdown.value]  \n",
    "\n",
    "        # If no selections, show message instead of empty plot\n",
    "        if not selected_names:\n",
    "            display(widgets.HTML(\"<h3 style='color:red; font-size:16px;'>Please select at least one owner.</h3>\"))\n",
    "            return\n",
    "\n",
    "        # Filter data based on selected owners\n",
    "        filtered_data = data[data['owner'].isin(selected_names)]\n",
    "\n",
    "        # Set Helvetica font for all text\n",
    "        plt.rcParams[\"font.family\"] = \"Helvetica\"\n",
    "        plt.rcParams[\"font.size\"] = 14  \n",
    "\n",
    "        # Create figure\n",
    "        fig, ax = plt.subplots(figsize=(12, 6))\n",
    "\n",
    "        # Plot bars for each selected owner\n",
    "        x_positions = np.arange(len(selected_names))  \n",
    "        bar_width = 0.5  \n",
    "\n",
    "        for i, name in enumerate(selected_names):\n",
    "            subset = filtered_data[filtered_data['owner'] == name]\n",
    "            value = subset[y_axis_variable].values[0]\n",
    "            color = name_color_map.get(name, \"black\")  # Ensure consistent color mapping\n",
    "\n",
    "            # Format integer metrics properly\n",
    "            label_text = f\"{int(value)}\" if y_axis_variable in int_metrics else f\"{value:.2f}\"\n",
    "\n",
    "            if y_axis_variable in inverted_metrics:\n",
    "                # **Ensure bars start at the x-axis and grow upwards**\n",
    "                bar_height = 8 - value\n",
    "                ax.bar(x_positions[i], bar_height, width=bar_width, bottom=0, label=name, alpha=0.7, color=color)\n",
    "            else:\n",
    "                bar_height = value\n",
    "                ax.bar(x_positions[i], value, width=bar_width, label=name, alpha=0.7, color=color)\n",
    "\n",
    "            # **Fix text placement so it’s above each bar correctly**\n",
    "            text_height = bar_height + 0.2 if bar_height > 1 else bar_height + 0.05\n",
    "            ax.text(x_positions[i], text_height, label_text, ha='center', fontsize=12, fontweight='bold', color='black')\n",
    "\n",
    "        # Set labels and title\n",
    "        ax.set_xlabel(\"Owner\", fontsize=16)\n",
    "        ax.set_ylabel(y_axis_dropdown.value, fontsize=16)\n",
    "        ax.set_title(f\"{y_axis_dropdown.value} Across All Seasons\", fontsize=18)\n",
    "        ax.set_xticks(x_positions)\n",
    "        ax.set_xticklabels(selected_names, rotation=45)\n",
    "\n",
    "        # Adjust Y-axis limits\n",
    "        if y_axis_variable in inverted_metrics:\n",
    "            ax.set_ylim(0, 8)  # **Ensure rankings go from 8 (bottom) to 1 (top)**\n",
    "        else:\n",
    "            max_value = filtered_data[y_axis_variable].max()\n",
    "            ax.set_ylim(0, max_value * 1.1)  # Add 10% space above bars\n",
    "\n",
    "        # Move legend outside the plot and increase font size\n",
    "        ax.legend(title=\"Owner\", bbox_to_anchor=(1.05, 1), loc='upper left', borderaxespad=0., fontsize=14, title_fontsize=16)\n",
    "\n",
    "        ax.grid(axis=\"y\", linestyle=\"--\", alpha=0.7)\n",
    "\n",
    "        # Adjust layout to fit legend\n",
    "        plt.tight_layout()\n",
    "        plt.show()\n",
    "\n",
    "# Attach observers to widgets for automatic updates\n",
    "for checkbox in name_checkboxes.values():\n",
    "    checkbox.observe(update_plot, names='value')\n",
    "y_axis_dropdown.observe(update_plot, names='value')\n",
    "\n",
    "# Display UI elements\n",
    "display(widgets.HTML(\"<b style='font-size:16px;'>Select Owners:</b>\"))\n",
    "display(name_box)\n",
    "display(y_axis_dropdown)\n",
    "\n",
    "# Display the output widget (where the plot appears)\n",
    "display(output)\n",
    "\n",
    "# Initial plot\n",
    "update_plot()\n"
   ]
  },
  {
   "cell_type": "markdown",
   "id": "5df1be85-fb41-4265-b600-9a9bee4fb838",
   "metadata": {},
   "source": [
    "### Plot metrics by owner - playoffs/consolation tournament only (last two weeks)"
   ]
  },
  {
   "cell_type": "code",
   "execution_count": 212,
   "id": "45d6791b-3e93-4c17-98be-d03df0dfb26e",
   "metadata": {
    "jupyter": {
     "source_hidden": true
    }
   },
   "outputs": [
    {
     "data": {
      "application/vnd.jupyter.widget-view+json": {
       "model_id": "b0744db99bb34c4d9793768bdd7280c4",
       "version_major": 2,
       "version_minor": 0
      },
      "text/plain": [
       "HTML(value=\"<b style='font-size:16px;'>Select Owners:</b>\")"
      ]
     },
     "metadata": {},
     "output_type": "display_data"
    },
    {
     "data": {
      "application/vnd.jupyter.widget-view+json": {
       "model_id": "d2d36bac638f48dd8ae5ba189eae744a",
       "version_major": 2,
       "version_minor": 0
      },
      "text/plain": [
       "VBox(children=(HBox(children=(Checkbox(value=True, description='Jake'), Checkbox(value=True, description='John…"
      ]
     },
     "metadata": {},
     "output_type": "display_data"
    },
    {
     "data": {
      "application/vnd.jupyter.widget-view+json": {
       "model_id": "d3ee2411f176495d94a062c9eba60529",
       "version_major": 2,
       "version_minor": 0
      },
      "text/plain": [
       "Dropdown(description='Y-Axis:', layout=Layout(width='300px'), options=('Playoff Wins', 'Playoff Points For', '…"
      ]
     },
     "metadata": {},
     "output_type": "display_data"
    },
    {
     "data": {
      "application/vnd.jupyter.widget-view+json": {
       "model_id": "023132bd00c4472bb1a3f28a4a4e12a6",
       "version_major": 2,
       "version_minor": 0
      },
      "text/plain": [
       "Output()"
      ]
     },
     "metadata": {},
     "output_type": "display_data"
    }
   ],
   "source": [
    "# Playoff data\n",
    "data = pd.read_csv('playoff_metrics.csv')\n",
    "\n",
    "# Extract unique names, sorted alphabetically for consistent color mapping\n",
    "unique_names = sorted(data['owner'].unique().tolist())\n",
    "\n",
    "# Define formatted labels for dropdown menu\n",
    "y_axis_options = {\n",
    "    \"Playoff Wins\": \"playoff_wins\",\n",
    "    \"Playoff Points For\": \"playoff_pts_for\",\n",
    "    \"Playoff Points Against\": \"playoff_pts_against\",\n",
    "    \"Total Points For\": \"total_pts_for\",\n",
    "    \"Total Championships\": \"championships\",\n",
    "    \"Last Place Finishes\": \"last_places\",\n",
    "    \"Rank Differential\": \"rank_differential\"\n",
    "}\n",
    "\n",
    "# Metrics that should be displayed as **integers**\n",
    "int_metrics = {\"playoff_wins\", \"championships\", \"last_places\"}\n",
    "\n",
    "# Define a custom hex color palette (mapped alphabetically)\n",
    "custom_hex_palette = [\n",
    "    \"#900c3f\", \"#182b55\", \"#5f4e94\", \"#a291c7\",\n",
    "    \"#82cbec\", \"#d94f21\", \"#febd2b\", \"#9aab4b\"\n",
    "]\n",
    "\n",
    "# Assign colors to owners in alphabetical order\n",
    "name_color_map = {name: custom_hex_palette[i % len(custom_hex_palette)] for i, name in enumerate(unique_names)}\n",
    "\n",
    "# Create owner checkboxes (organized into rows of 4)\n",
    "name_checkboxes = {owner: widgets.Checkbox(value=True, description=str(owner)) for owner in unique_names}\n",
    "name_box = widgets.VBox([widgets.HBox(list(name_checkboxes.values())[i:i+4]) for i in range(0, len(unique_names), 4)])\n",
    "\n",
    "# Dropdown for selecting the Y-axis variable\n",
    "y_axis_dropdown = widgets.Dropdown(\n",
    "    options=list(y_axis_options.keys()),  \n",
    "    value=\"Playoff Wins\",  \n",
    "    description=\"Y-Axis:\",\n",
    "    style={'description_width': 'initial'},  \n",
    "    layout=widgets.Layout(width='300px')  \n",
    ")\n",
    "\n",
    "# Output widget for the plot\n",
    "output = widgets.Output()\n",
    "\n",
    "# Function to Update the Plot\n",
    "def update_plot(change=None):  \n",
    "    with output:\n",
    "        clear_output(wait=True)  \n",
    "\n",
    "        # Get selected names\n",
    "        selected_names = [name for name, checkbox in name_checkboxes.items() if checkbox.value]\n",
    "\n",
    "        # Get selected Y-axis variable\n",
    "        y_axis_variable = y_axis_options[y_axis_dropdown.value]  \n",
    "\n",
    "        # If no selections, show message instead of empty plot\n",
    "        if not selected_names:\n",
    "            display(widgets.HTML(\"<h3 style='color:red; font-size:16px;'>Please select at least one owner.</h3>\"))\n",
    "            return\n",
    "\n",
    "        # Filter data based on selected owners\n",
    "        filtered_data = data[data['owner'].isin(selected_names)]\n",
    "\n",
    "        # Set font for all text\n",
    "        plt.rcParams[\"font.family\"] = \"Helvetica\"\n",
    "        plt.rcParams[\"font.size\"] = 14  \n",
    "\n",
    "        # Create figure\n",
    "        fig, ax = plt.subplots(figsize=(12, 6))\n",
    "\n",
    "        # Plot bars for each selected owner\n",
    "        x_positions = np.arange(len(selected_names))  \n",
    "        bar_width = 0.5  \n",
    "\n",
    "        for i, name in enumerate(selected_names):\n",
    "            subset = filtered_data[filtered_data['owner'] == name]\n",
    "            value = subset[y_axis_variable].values[0]\n",
    "            color = name_color_map.get(name, \"black\")\n",
    "\n",
    "            # **Format integer values properly**\n",
    "            label_text = f\"{int(value)}\" if y_axis_variable in int_metrics else f\"{value:.2f}\"\n",
    "\n",
    "            # **Plot Rank Differential with Dynamic Range**\n",
    "            if y_axis_variable == \"rank_differential\":\n",
    "                bar_height = value\n",
    "                ax.bar(x_positions[i], bar_height, width=bar_width, label=name, alpha=0.7, color=color)\n",
    "                \n",
    "                # **Adjust Text Placement for Rank Differential**\n",
    "                text_offset = -0.15 if value < 0 else 0.15  # Push negative values inside the bar\n",
    "                ax.text(x_positions[i], bar_height + text_offset, label_text, ha='center', fontsize=12, fontweight='bold', color='black')\n",
    "\n",
    "            else:\n",
    "                bar_height = value\n",
    "                ax.bar(x_positions[i], bar_height, width=bar_width, label=name, alpha=0.7, color=color)\n",
    "                \n",
    "                # **Standard text placement for all other metrics**\n",
    "                ax.text(x_positions[i], bar_height + 0.1, label_text, ha='center', fontsize=12, fontweight='bold', color='black')\n",
    "\n",
    "        ax.set_ylabel(y_axis_dropdown.value, fontsize=16)\n",
    "        ax.set_xticks(x_positions)\n",
    "        ax.set_xticklabels(selected_names, rotation=45)\n",
    "\n",
    "        # **Set Dynamic Range for Rank Differential**\n",
    "        if y_axis_variable == \"rank_differential\":\n",
    "            max_abs_value = max(abs(filtered_data[y_axis_variable].max()), abs(filtered_data[y_axis_variable].min()))\n",
    "            buffer = 1.5 * max_abs_value\n",
    "            ax.set_ylim(-buffer, buffer)  # Dynamic scaling based on data\n",
    "        else:\n",
    "            max_value = filtered_data[y_axis_variable].max()\n",
    "            ax.set_ylim(0, max_value * 1.1)  # Add 10% space above bars\n",
    "\n",
    "        # Move legend outside the plot\n",
    "        ax.legend(title=\"Owner\", bbox_to_anchor=(1.05, 1), loc='upper left', borderaxespad=0., fontsize=14, title_fontsize=16)\n",
    "\n",
    "        ax.grid(axis=\"y\", linestyle=\"--\", alpha=0.7)\n",
    "\n",
    "        # Adjust layout to fit legend\n",
    "        plt.tight_layout()\n",
    "        plt.show()\n",
    "\n",
    "# Attach observers to widgets for automatic updates\n",
    "for checkbox in name_checkboxes.values():\n",
    "    checkbox.observe(update_plot, names='value')\n",
    "y_axis_dropdown.observe(update_plot, names='value')\n",
    "\n",
    "# Display UI elements\n",
    "display(widgets.HTML(\"<b style='font-size:16px;'>Select Owners:</b>\"))\n",
    "display(name_box)\n",
    "display(y_axis_dropdown)\n",
    "display(output)\n",
    "\n",
    "# Initial plot\n",
    "update_plot()\n"
   ]
  },
  {
   "cell_type": "markdown",
   "id": "5ed5f0f8-beba-4765-a931-8bc2c142dfe7",
   "metadata": {},
   "source": [
    "### Head-to-head comparisons"
   ]
  },
  {
   "cell_type": "code",
   "execution_count": 216,
   "id": "0a8eef64-0f66-4113-8251-eaea63a7ed92",
   "metadata": {
    "jupyter": {
     "source_hidden": true
    }
   },
   "outputs": [
    {
     "data": {
      "application/vnd.jupyter.widget-view+json": {
       "model_id": "319b8f18863a4bfdaed46da0e0ef45e6",
       "version_major": 2,
       "version_minor": 0
      },
      "text/plain": [
       "HTML(value=\"<b style='font-size:16px;'>Select Owners to Compare:</b>\")"
      ]
     },
     "metadata": {},
     "output_type": "display_data"
    },
    {
     "data": {
      "application/vnd.jupyter.widget-view+json": {
       "model_id": "2b1510cd84bc4eb39c937db297994c4a",
       "version_major": 2,
       "version_minor": 0
      },
      "text/plain": [
       "HBox(children=(Dropdown(description='Owner 1:', layout=Layout(width='200px'), options=('Jake', 'John', 'Kevin'…"
      ]
     },
     "metadata": {},
     "output_type": "display_data"
    },
    {
     "data": {
      "application/vnd.jupyter.widget-view+json": {
       "model_id": "824c36ed95f64241aea21f5568a1b801",
       "version_major": 2,
       "version_minor": 0
      },
      "text/plain": [
       "Dropdown(description='Y-Axis:', layout=Layout(width='250px'), options=('Wins', 'Points'), style=DescriptionSty…"
      ]
     },
     "metadata": {},
     "output_type": "display_data"
    },
    {
     "data": {
      "application/vnd.jupyter.widget-view+json": {
       "model_id": "321fd73dabf844b585d48b29e6ca46d0",
       "version_major": 2,
       "version_minor": 0
      },
      "text/plain": [
       "Output()"
      ]
     },
     "metadata": {},
     "output_type": "display_data"
    }
   ],
   "source": [
    "data = pd.read_csv('head_to_head.csv')\n",
    "\n",
    "# Extract unique names, sorted alphabetically for consistent color mapping\n",
    "unique_names = sorted(data['owner'].unique().tolist())\n",
    "\n",
    "# Define formatted labels for dropdown menu\n",
    "y_axis_options = {\n",
    "    \"Wins\": (\"owner_wins\", \"opp_wins\"),\n",
    "    \"Points\": (\"owner_pts\", \"opp_pts\")\n",
    "}\n",
    "\n",
    "# Metrics that should be displayed as **integers**\n",
    "int_metrics = {\"owner_wins\", \"opp_wins\"}\n",
    "\n",
    "# Define a custom hex color palette (mapped alphabetically)\n",
    "custom_hex_palette = [\n",
    "    \"#900c3f\", \"#182b55\", \"#5f4e94\", \"#a291c7\",\n",
    "    \"#82cbec\", \"#d94f21\", \"#febd2b\", \"#9aab4b\"\n",
    "]\n",
    "\n",
    "# Ensure color mapping is assigned alphabetically\n",
    "name_color_map = {name: custom_hex_palette[i % len(custom_hex_palette)] for i, name in enumerate(unique_names)}\n",
    "\n",
    "# Dropdowns for selecting two owners\n",
    "owner1_dropdown = widgets.Dropdown(\n",
    "    options=unique_names,\n",
    "    value=unique_names[0],\n",
    "    description=\"Owner 1:\",\n",
    "    style={'description_width': 'initial'},\n",
    "    layout=widgets.Layout(width='200px')\n",
    ")\n",
    "\n",
    "owner2_dropdown = widgets.Dropdown(\n",
    "    options=unique_names,\n",
    "    value=unique_names[1] if len(unique_names) > 1 else unique_names[0],  # Ensure a different default\n",
    "    description=\"Owner 2:\",\n",
    "    style={'description_width': 'initial'},\n",
    "    layout=widgets.Layout(width='200px')\n",
    ")\n",
    "\n",
    "# Dropdown for selecting the Y-axis variable\n",
    "y_axis_dropdown = widgets.Dropdown(\n",
    "    options=list(y_axis_options.keys()),  \n",
    "    value=\"Wins\",  \n",
    "    description=\"Y-Axis:\",\n",
    "    style={'description_width': 'initial'},  \n",
    "    layout=widgets.Layout(width='250px')  \n",
    ")\n",
    "\n",
    "# Output widget for the plot\n",
    "output = widgets.Output()\n",
    "\n",
    "# Function to update the plot\n",
    "def update_plot(change=None):  \n",
    "    with output:\n",
    "        clear_output(wait=True)  \n",
    "\n",
    "        # Get selected owners and metric\n",
    "        owner1 = owner1_dropdown.value\n",
    "        owner2 = owner2_dropdown.value\n",
    "        owner1_var, owner2_var = y_axis_options[y_axis_dropdown.value]\n",
    "\n",
    "        # If same owner selected, show warning\n",
    "        if owner1 == owner2:\n",
    "            display(widgets.HTML(\"<h3 style='color:red; font-size:16px;'>Please select two different owners.</h3>\"))\n",
    "            return\n",
    "\n",
    "        # **Find the matchups where Owner 1 played Owner 2**\n",
    "        matchup_data = data[(data['owner'] == owner1) & (data['opponent'] == owner2)]\n",
    "\n",
    "        if matchup_data.empty:\n",
    "            display(widgets.HTML(f\"<h3 style='color:red; font-size:16px;'>No matchups found between {owner1} and {owner2}.</h3>\"))\n",
    "            return\n",
    "\n",
    "        # Aggregate values for total wins/points in matchups\n",
    "        value1 = matchup_data[owner1_var].sum()\n",
    "        value2 = matchup_data[owner2_var].sum()\n",
    "\n",
    "        # Ensure proper formatting (integers vs. decimals)\n",
    "        label1 = f\"{int(value1)}\" if owner1_var in int_metrics else f\"{value1:.2f}\"\n",
    "        label2 = f\"{int(value2)}\" if owner2_var in int_metrics else f\"{value2:.2f}\"\n",
    "\n",
    "        # Assign colors\n",
    "        color1 = name_color_map.get(owner1, \"black\")\n",
    "        color2 = name_color_map.get(owner2, \"black\")\n",
    "\n",
    "        # Create figure\n",
    "        fig, ax = plt.subplots(figsize=(8, 6))\n",
    "\n",
    "        # Plot bars side by side\n",
    "        bars = ax.bar([0, 1], [value1, value2], color=[color1, color2], width=0.5)\n",
    "\n",
    "        # Add text labels above bars\n",
    "        for bar, label in zip(bars, [label1, label2]):\n",
    "            height = bar.get_height()\n",
    "            ax.text(bar.get_x() + bar.get_width()/2, height + 0.05, label, ha='center', fontsize=14, fontweight='bold', color='black')\n",
    "\n",
    "        # Set labels and title\n",
    "        ax.set_xticks([0, 1])\n",
    "        ax.set_xticklabels([owner1, owner2], rotation=0, fontsize=14)\n",
    "        ax.set_xlabel(\"Owner\", fontsize=16)\n",
    "        ax.set_ylabel(y_axis_dropdown.value, fontsize=16)\n",
    "        ax.set_title(f\"{y_axis_dropdown.value} Comparison in Matchups\", fontsize=18)\n",
    "\n",
    "        # Adjust Y-axis limits\n",
    "        max_value = max(value1, value2)\n",
    "        ax.set_ylim(0, max_value * 1.1)  # Add 10% buffer\n",
    "\n",
    "        ax.grid(axis=\"y\", linestyle=\"--\", alpha=0.7)\n",
    "        plt.tight_layout()\n",
    "        plt.show()\n",
    "\n",
    "# Attach observers for live updates\n",
    "owner1_dropdown.observe(update_plot, names='value')\n",
    "owner2_dropdown.observe(update_plot, names='value')\n",
    "y_axis_dropdown.observe(update_plot, names='value')\n",
    "\n",
    "# Display UI elements\n",
    "display(widgets.HTML(\"<b style='font-size:16px;'>Select Owners to Compare:</b>\"))\n",
    "display(widgets.HBox([owner1_dropdown, owner2_dropdown]))\n",
    "display(y_axis_dropdown)\n",
    "\n",
    "# Display the output widget\n",
    "display(output)\n",
    "\n",
    "# Initial plot\n",
    "update_plot()\n"
   ]
  },
  {
   "cell_type": "markdown",
   "id": "35c0d6dd-2ed2-4c8f-b4be-23439fd5fc70",
   "metadata": {},
   "source": [
    "### trends by owner by season"
   ]
  },
  {
   "cell_type": "code",
   "execution_count": 218,
   "id": "bcc2b49e-8e2a-4405-bf46-3403ba21e099",
   "metadata": {
    "jupyter": {
     "source_hidden": true
    }
   },
   "outputs": [
    {
     "data": {
      "application/vnd.jupyter.widget-view+json": {
       "model_id": "cc3e94b9f85843bf9311ee4fe27baa7d",
       "version_major": 2,
       "version_minor": 0
      },
      "text/plain": [
       "VBox(children=(HBox(children=(Checkbox(value=True, description='2015'), Checkbox(value=True, description='2016…"
      ]
     },
     "metadata": {},
     "output_type": "display_data"
    },
    {
     "data": {
      "application/vnd.jupyter.widget-view+json": {
       "model_id": "1fb739a36dcb46989bb348f6948bd276",
       "version_major": 2,
       "version_minor": 0
      },
      "text/plain": [
       "VBox(children=(HBox(children=(Checkbox(value=True, description='Jake'), Checkbox(value=True, description='John…"
      ]
     },
     "metadata": {},
     "output_type": "display_data"
    },
    {
     "data": {
      "application/vnd.jupyter.widget-view+json": {
       "model_id": "ccabb624228644c4ab2c832ba8798fb0",
       "version_major": 2,
       "version_minor": 0
      },
      "text/plain": [
       "Dropdown(description='Y-Axis:', layout=Layout(width='250px'), options=('Points For', 'Points Against', 'Total …"
      ]
     },
     "metadata": {},
     "output_type": "display_data"
    },
    {
     "data": {
      "application/vnd.jupyter.widget-view+json": {
       "model_id": "217d9f87daf8405391923fdc4151b5a3",
       "version_major": 2,
       "version_minor": 0
      },
      "text/plain": [
       "Dropdown(description='Plot Type:', layout=Layout(width='150px'), options=('Bar', 'Line'), style=DescriptionSty…"
      ]
     },
     "metadata": {},
     "output_type": "display_data"
    },
    {
     "data": {
      "application/vnd.jupyter.widget-view+json": {
       "model_id": "ed89a5f0c516486dbf7220b5d21d91e1",
       "version_major": 2,
       "version_minor": 0
      },
      "text/plain": [
       "Output()"
      ]
     },
     "metadata": {},
     "output_type": "display_data"
    },
    {
     "data": {
      "application/vnd.jupyter.widget-view+json": {
       "model_id": "2bb5738c10b1496797fd28bd4051491f",
       "version_major": 2,
       "version_minor": 0
      },
      "text/plain": [
       "Output()"
      ]
     },
     "metadata": {},
     "output_type": "display_data"
    }
   ],
   "source": [
    "\n",
    "data = pd.read_csv('szn_summary.csv')\n",
    "\n",
    "# Extract unique values for seasons and names\n",
    "unique_seasons = sorted(data['season'].unique().tolist())  \n",
    "unique_names = sorted(data['owner'].unique().tolist())  \n",
    "\n",
    "# Define formatted labels for dropdown menu\n",
    "y_axis_options = {\n",
    "    \"Points For\": \"avg_pts_for\",\n",
    "    \"Points Against\": \"avg_pts_against\",\n",
    "    \"Total Points\": \"total_pts\",\n",
    "    \"Wins\": \"avg_wins\",\n",
    "    \"Losses\": \"avg_losses\",\n",
    "    \"Regular Season Rank\": \"avg_reg_szn_rank\",\n",
    "    \"Final Rank\": \"avg_final_rank\",\n",
    "    \"Win Percentage\": \"win_percentage\",\n",
    "    \"Championships Won\": \"total_championships\"\n",
    "}\n",
    "\n",
    "# Metrics that should be displayed as **integers**\n",
    "int_metrics = {\"avg_wins\", \"avg_losses\", \"avg_reg_szn_rank\", \"avg_final_rank\", \"total_championships\"}\n",
    "\n",
    "# Define which metrics should have an inverted Y-axis\n",
    "inverted_metrics = {\"avg_reg_szn_rank\", \"avg_final_rank\"}\n",
    "\n",
    "# Define a custom hex color palette\n",
    "custom_hex_palette = [\n",
    "    \"#900c3f\", \"#182b55\", \"#5f4e94\", \"#a291c7\",\n",
    "    \"#82cbec\", \"#d94f21\", \"#febd2b\", \"#9aab4b\"\n",
    "]\n",
    "\n",
    "# Map each name to a unique color\n",
    "name_color_map = {name: custom_hex_palette[i % len(custom_hex_palette)] for i, name in enumerate(unique_names)}\n",
    "\n",
    "# Create season checkboxes\n",
    "season_checkboxes = {season: widgets.Checkbox(value=True, description=str(season)) for season in unique_seasons}\n",
    "season_box = widgets.VBox([widgets.HBox(list(season_checkboxes.values())[i:i+4]) for i in range(0, len(unique_seasons), 4)])\n",
    "\n",
    "# Create name checkboxes\n",
    "name_checkboxes = {owner: widgets.Checkbox(value=True, description=str(owner)) for owner in unique_names}\n",
    "name_box = widgets.VBox([widgets.HBox(list(name_checkboxes.values())[i:i+4]) for i in range(0, len(unique_names), 4)])\n",
    "\n",
    "# Dropdown for selecting the Y-axis variable\n",
    "y_axis_dropdown = widgets.Dropdown(\n",
    "    options=list(y_axis_options.keys()),  \n",
    "    value=\"Points For\",  \n",
    "    description=\"Y-Axis:\",\n",
    "    style={'description_width': 'initial'},  \n",
    "    layout=widgets.Layout(width='250px')  \n",
    ")\n",
    "\n",
    "# Dropdown for selecting bar vs. line plot\n",
    "plot_type_dropdown = widgets.Dropdown(\n",
    "    options=['Bar', 'Line'],\n",
    "    value='Bar',  \n",
    "    description=\"Plot Type:\",\n",
    "    style={'description_width': 'initial'},\n",
    "    layout=widgets.Layout(width='150px')\n",
    ")\n",
    "\n",
    "# Output widgets to contain the plot and the table\n",
    "output_plot = widgets.Output()\n",
    "output_table = widgets.Output()\n",
    "\n",
    "# Function to format and display a styled table\n",
    "def format_table(df, title):\n",
    "    \"\"\"Format a Pandas DataFrame into a nicely styled HTML table with color-coded owner names.\"\"\"\n",
    "    styles = \"\"\"\n",
    "        <style>\n",
    "            table {\n",
    "                width: 100%;\n",
    "                border-collapse: collapse;\n",
    "                font-family: Arial, sans-serif;\n",
    "                font-size: 14px;\n",
    "                background-color: #f5f5f5;  /* Light Grey Background */\n",
    "            }\n",
    "            th {\n",
    "                background-color: #182b55;\n",
    "                color: white;\n",
    "                font-weight: bold;\n",
    "                padding: 10px;\n",
    "                border: 1px solid #ccc;\n",
    "                text-transform: capitalize;  /* Capitalizing Column Names */\n",
    "            }\n",
    "            td {\n",
    "                padding: 8px;\n",
    "                border: 1px solid #ccc;\n",
    "                text-align: center;\n",
    "            }\n",
    "            tr:nth-child(even) {\n",
    "                background-color: #e0e0e0;\n",
    "            }\n",
    "            tr:hover {\n",
    "                background-color: #ddd;\n",
    "            }\n",
    "            .owner-box {\n",
    "                display: inline-block;\n",
    "                padding: 4px 10px;\n",
    "                border-radius: 8px;\n",
    "                color: white;\n",
    "                font-weight: bold;\n",
    "                text-align: center;\n",
    "            }\n",
    "        </style>\n",
    "    \"\"\"\n",
    "    \n",
    "    # Format column headers to include color-coded owner boxes\n",
    "    styled_columns = {\n",
    "        owner: f\"<span class='owner-box' style='background-color:{name_color_map.get(owner, '#000')}'>\" \n",
    "               f\"{owner}</span>\"\n",
    "        for owner in df.columns\n",
    "    }\n",
    "\n",
    "    # Ensure all column names are capitalized properly\n",
    "    df = df.rename(columns={col: col.capitalize() for col in df.columns})\n",
    "    df = df.rename(columns=styled_columns)  # Apply styled owner columns\n",
    "\n",
    "    return HTML(f\"{styles}<h3 style='text-align: left; font-size: 18px;'>{title}</h3>\" + df.to_html(index=True, escape=False))\n",
    "\n",
    "# Function to Update the Plot and Table\n",
    "def update_plot(change=None):\n",
    "    with output_plot:\n",
    "        clear_output(wait=True)\n",
    "\n",
    "        # Get selected seasons and convert back to integers\n",
    "        selected_seasons = [int(season) for season, checkbox in season_checkboxes.items() if checkbox.value]\n",
    "\n",
    "        # Get selected names\n",
    "        selected_names = [name for name, checkbox in name_checkboxes.items() if checkbox.value]\n",
    "\n",
    "        # Get selected Y-axis variable\n",
    "        y_axis_variable = y_axis_options[y_axis_dropdown.value]\n",
    "\n",
    "        # Get selected plot type (Bar or Line)\n",
    "        plot_type = plot_type_dropdown.value\n",
    "\n",
    "        # If no selections, show message instead of empty plot\n",
    "        if not selected_seasons or not selected_names:\n",
    "            display(widgets.HTML(\"<h3 style='color:red; font-size:16px;'>Please select at least one season and one name.</h3>\"))\n",
    "            return\n",
    "\n",
    "        # Filter data\n",
    "        filtered_data = data[(data['season'].isin(selected_seasons)) & (data['owner'].isin(selected_names))]\n",
    "\n",
    "        # Convert season to categorical values for better positioning\n",
    "        season_labels = sorted(filtered_data['season'].unique())\n",
    "        x_indexes = np.arange(len(season_labels)) * 1.5  \n",
    "\n",
    "        bar_width = 0.15  \n",
    "        num_names = len(selected_names)\n",
    "        offsets = np.linspace(-bar_width * num_names / 2, bar_width * num_names / 2, num_names)\n",
    "\n",
    "        # Set Helvetica font for all text\n",
    "        plt.rcParams[\"font.family\"] = \"Helvetica\"\n",
    "        plt.rcParams[\"font.size\"] = 14  \n",
    "\n",
    "        # Create figure\n",
    "        fig, ax = plt.subplots(figsize=(14, 7))\n",
    "\n",
    "        for i, name in enumerate(selected_names):\n",
    "            subset = filtered_data[filtered_data['owner'] == name]\n",
    "            x_positions = [x_indexes[season_labels.index(s)] for s in subset['season']]\n",
    "            values = subset[y_axis_variable].values\n",
    "            color = name_color_map.get(name, \"black\")\n",
    "\n",
    "            if y_axis_variable in inverted_metrics:\n",
    "                bar_values = 9 - values  \n",
    "            else:\n",
    "                bar_values = values\n",
    "\n",
    "            if plot_type == 'Bar':\n",
    "                ax.bar(np.array(x_positions) + offsets[i], bar_values, width=bar_width, label=name, alpha=0.7, color=color)\n",
    "            else:  \n",
    "                ax.plot(x_positions, bar_values, marker='o', linestyle='-', label=name, color=color)\n",
    "\n",
    "        # Set labels and title\n",
    "        ax.set_xlabel(\"Season\", fontsize=16)\n",
    "        ax.set_ylabel(y_axis_dropdown.value, fontsize=16)\n",
    "        ax.set_xticks(ticks=x_indexes)\n",
    "        ax.set_xticklabels(season_labels, rotation=45)\n",
    "\n",
    "        if y_axis_variable in inverted_metrics:\n",
    "            ax.set_ylim(0, 8)\n",
    "            ax.set_yticks(range(1, 9))\n",
    "            ax.set_yticklabels(reversed(range(1, 9)))\n",
    "        else:\n",
    "            max_value = filtered_data[y_axis_variable].max()\n",
    "            ax.set_ylim(0, max_value * 1.1)\n",
    "\n",
    "        ax.legend(title=\"Owner\", bbox_to_anchor=(1.05, 0.75), loc='upper left', borderaxespad=0., fontsize=12, title_fontsize=14)\n",
    "        ax.grid(axis=\"y\", linestyle=\"--\", alpha=0.7)\n",
    "\n",
    "        plt.tight_layout()\n",
    "        plt.show()\n",
    "\n",
    "    with output_table:\n",
    "        clear_output(wait=True)\n",
    "\n",
    "        if not selected_seasons or not selected_names:\n",
    "            return\n",
    "\n",
    "        table_data = filtered_data.pivot(index=\"season\", columns=\"owner\", values=y_axis_variable)\n",
    "        table_data = table_data[selected_names]  \n",
    "\n",
    "        if y_axis_variable in int_metrics:\n",
    "            table_data = table_data.astype(\"Int64\")  \n",
    "\n",
    "        display(format_table(table_data, f\"{y_axis_dropdown.value} by Season & Owner\"))\n",
    "\n",
    "season_dropdown.observe(update_plot, names='value')\n",
    "for checkbox in season_checkboxes.values():\n",
    "    checkbox.observe(update_plot, names='value')\n",
    "for checkbox in name_checkboxes.values():\n",
    "    checkbox.observe(update_plot, names='value')\n",
    "\n",
    "y_axis_dropdown.observe(update_plot, names='value')\n",
    "plot_type_dropdown.observe(update_plot, names='value')\n",
    "\n",
    "display(season_box, name_box, y_axis_dropdown, plot_type_dropdown, output_plot, output_table)\n",
    "\n",
    "update_plot()\n"
   ]
  },
  {
   "cell_type": "markdown",
   "id": "4df66cd0-1144-40d9-a4a9-8930cdfbebdb",
   "metadata": {},
   "source": [
    "### Plot metrics by week, owner, and season"
   ]
  },
  {
   "cell_type": "code",
   "execution_count": 221,
   "id": "fde04724-b8e9-4748-97f8-2f4397756fa4",
   "metadata": {
    "jupyter": {
     "source_hidden": true
    }
   },
   "outputs": [
    {
     "data": {
      "application/vnd.jupyter.widget-view+json": {
       "model_id": "0693d3f8ee414b508f200300c99ea4d6",
       "version_major": 2,
       "version_minor": 0
      },
      "text/plain": [
       "HTML(value=\"<b style='font-size:16px;'>Select Season:</b>\")"
      ]
     },
     "metadata": {},
     "output_type": "display_data"
    },
    {
     "data": {
      "application/vnd.jupyter.widget-view+json": {
       "model_id": "3dc8a149e64c4c7fbbbde315eb3dc8a2",
       "version_major": 2,
       "version_minor": 0
      },
      "text/plain": [
       "Dropdown(description='Season:', layout=Layout(width='150px'), options=(2015, 2016, 2017, 2018, 2019, 2020, 202…"
      ]
     },
     "metadata": {},
     "output_type": "display_data"
    },
    {
     "data": {
      "application/vnd.jupyter.widget-view+json": {
       "model_id": "257d85741ad44eb4b9fe82872a2ba647",
       "version_major": 2,
       "version_minor": 0
      },
      "text/plain": [
       "HTML(value=\"<b style='font-size:16px;'>Select Owners:</b>\")"
      ]
     },
     "metadata": {},
     "output_type": "display_data"
    },
    {
     "data": {
      "application/vnd.jupyter.widget-view+json": {
       "model_id": "b78d28de7b77427f8de898a108a56690",
       "version_major": 2,
       "version_minor": 0
      },
      "text/plain": [
       "VBox(children=(HBox(children=(Checkbox(value=True, description='Jake'), Checkbox(value=True, description='John…"
      ]
     },
     "metadata": {},
     "output_type": "display_data"
    },
    {
     "data": {
      "application/vnd.jupyter.widget-view+json": {
       "model_id": "e2f7ade94bcf436bb3862c31045e66bb",
       "version_major": 2,
       "version_minor": 0
      },
      "text/plain": [
       "Dropdown(description='Y-Axis:', layout=Layout(width='250px'), options=('Points For', 'Points Against', 'Wins',…"
      ]
     },
     "metadata": {},
     "output_type": "display_data"
    },
    {
     "data": {
      "application/vnd.jupyter.widget-view+json": {
       "model_id": "3aecad5b63174b398cf523f0a16ec798",
       "version_major": 2,
       "version_minor": 0
      },
      "text/plain": [
       "Output()"
      ]
     },
     "metadata": {},
     "output_type": "display_data"
    },
    {
     "data": {
      "application/vnd.jupyter.widget-view+json": {
       "model_id": "cf576f5709024d2fac27d3baffc72205",
       "version_major": 2,
       "version_minor": 0
      },
      "text/plain": [
       "Output()"
      ]
     },
     "metadata": {},
     "output_type": "display_data"
    }
   ],
   "source": [
    "\n",
    "data = pd.read_csv('full_league_history.csv')\n",
    "\n",
    "# Extract unique values for seasons, weeks, and names\n",
    "unique_seasons = sorted(data['season'].unique().tolist())  \n",
    "unique_weeks = sorted(data['week'].unique().tolist())  \n",
    "unique_names = sorted(data['owner'].unique().tolist())  \n",
    "\n",
    "# Define formatted labels for dropdown menu\n",
    "y_axis_options = {\n",
    "    \"Points For\": \"pts_for\",\n",
    "    \"Points Against\": \"pts_against\",\n",
    "    \"Wins\": \"szn_wins\",\n",
    "    \"Losses\": \"szn_losses\"\n",
    "}\n",
    "\n",
    "# Metrics that should be displayed as **integers**\n",
    "int_metrics = {\"szn_wins\", \"szn_losses\"}\n",
    "\n",
    "# Define a custom hex color palette (alphabetically mapped)\n",
    "custom_hex_palette = [\n",
    "    \"#900c3f\", \"#182b55\", \"#5f4e94\", \"#a291c7\",\n",
    "    \"#82cbec\", \"#d94f21\", \"#febd2b\", \"#9aab4b\"\n",
    "]\n",
    "name_color_map = {name: custom_hex_palette[i % len(custom_hex_palette)] for i, name in enumerate(unique_names)}\n",
    "\n",
    "# Dropdown for selecting the Season\n",
    "season_dropdown = widgets.Dropdown(\n",
    "    options=unique_seasons,\n",
    "    value=unique_seasons[0],  \n",
    "    description=\"Season:\",\n",
    "    style={'description_width': 'initial'},\n",
    "    layout=widgets.Layout(width='150px')\n",
    ")\n",
    "\n",
    "# Create name checkboxes\n",
    "name_checkboxes = {owner: widgets.Checkbox(value=True, description=str(owner)) for owner in unique_names}\n",
    "name_box = widgets.VBox([widgets.HBox(list(name_checkboxes.values())[i:i+4]) for i in range(0, len(name_checkboxes), 4)])\n",
    "\n",
    "# Dropdown for selecting the Y-axis variable\n",
    "y_axis_dropdown = widgets.Dropdown(\n",
    "    options=list(y_axis_options.keys()),  \n",
    "    value=\"Points For\",  \n",
    "    description=\"Y-Axis:\",\n",
    "    style={'description_width': 'initial'},  \n",
    "    layout=widgets.Layout(width='250px')  \n",
    ")\n",
    "\n",
    "# Output widgets to contain the plot and the table\n",
    "output_plot = widgets.Output()\n",
    "output_table = widgets.Output()\n",
    "\n",
    "# Function to format and display a styled table with owner colors and light grey background\n",
    "def format_table(df, title):\n",
    "    \"\"\"Format a Pandas DataFrame into a nicely styled HTML table with a light grey background.\"\"\"\n",
    "    styles = \"\"\"\n",
    "        <style>\n",
    "            table {\n",
    "                width: 100%;\n",
    "                border-collapse: collapse;\n",
    "                font-family: Arial, sans-serif;\n",
    "                font-size: 14px;\n",
    "                background-color: #f5f5f5;  /* Light Grey Background */\n",
    "            }\n",
    "            th {\n",
    "                background-color: #a3a3a3;\n",
    "                color: white;\n",
    "                font-weight: bold;\n",
    "                padding: 10px;\n",
    "                border: 1px solid #ccc;\n",
    "                text-transform: capitalize;  /* Capitalizing Column Names */\n",
    "            }\n",
    "            td {\n",
    "                padding: 8px;\n",
    "                border: 1px solid #ccc;\n",
    "                text-align: center;\n",
    "            }\n",
    "            tr:nth-child(even) {\n",
    "                background-color: #e0e0e0;\n",
    "            }\n",
    "            tr:hover {\n",
    "                background-color: #ddd;\n",
    "            }\n",
    "            .owner-box {\n",
    "                display: inline-block;\n",
    "                padding: 4px 10px;\n",
    "                border-radius: 8px;\n",
    "                color: white;\n",
    "                font-weight: bold;\n",
    "                text-align: center;\n",
    "            }\n",
    "        </style>\n",
    "    \"\"\"\n",
    "    \n",
    "    # Format column headers to include color boxes for owner names\n",
    "    styled_columns = {\n",
    "        owner: f\"<span class='owner-box' style='background-color:{name_color_map.get(owner, '#000')}'>\" \n",
    "               f\"{owner}</span>\"\n",
    "        for owner in df.columns\n",
    "    }\n",
    "\n",
    "    # Ensure all column names are capitalized properly\n",
    "    df = df.rename(columns={col: col.capitalize() for col in df.columns})\n",
    "    df = df.rename(columns=styled_columns)  # Apply styled owner columns\n",
    "\n",
    "    return HTML(f\"{styles}<h3 style='text-align: left; font-size: 18px;'>{title}</h3>\" + df.to_html(index=True, escape=False))\n",
    "\n",
    "# Function to Update the Plot and Table\n",
    "def update_plot(change=None):  \n",
    "    with output_plot:\n",
    "        clear_output(wait=True)  \n",
    "\n",
    "        # Get selected season\n",
    "        selected_season = season_dropdown.value\n",
    "\n",
    "        # Get selected names\n",
    "        selected_names = [name for name, checkbox in name_checkboxes.items() if checkbox.value]\n",
    "\n",
    "        # Get selected Y-axis variable\n",
    "        y_axis_variable = y_axis_options[y_axis_dropdown.value]  \n",
    "\n",
    "        # If no selections, show message instead of empty plot\n",
    "        if not selected_names:\n",
    "            display(widgets.HTML(\"<h3 style='color:red; font-size:16px;'>Please select at least one owner.</h3>\"))\n",
    "            return\n",
    "\n",
    "        # Filter data based on the selected season\n",
    "        filtered_data = data[(data['season'] == selected_season) & (data['owner'].isin(selected_names))]\n",
    "\n",
    "        # Convert week to categorical values for better positioning\n",
    "        week_labels = sorted(filtered_data['week'].unique())\n",
    "        x_indexes = np.arange(len(week_labels))  \n",
    "\n",
    "        # Set Helvetica font for all text\n",
    "        plt.rcParams[\"font.family\"] = \"Helvetica\"\n",
    "        plt.rcParams[\"font.size\"] = 14  \n",
    "\n",
    "        # Create figure\n",
    "        fig, ax = plt.subplots(figsize=(14, 7))\n",
    "\n",
    "        for i, name in enumerate(selected_names):\n",
    "            subset = filtered_data[filtered_data['owner'] == name].copy()\n",
    "            subset = subset.sort_values(by=\"week\")\n",
    "\n",
    "            # Ensure x_positions match correct week order\n",
    "            x_positions = [x_indexes[week_labels.index(w)] for w in subset['week']]\n",
    "            color = name_color_map.get(name, \"black\")  \n",
    "\n",
    "            # Plot line for each player\n",
    "            ax.plot(x_positions, subset[y_axis_variable], marker='o', linestyle='-', label=name, color=color)\n",
    "\n",
    "        # Set labels and title\n",
    "        ax.set_xlabel(\"Week\", fontsize=16)\n",
    "        ax.set_ylabel(y_axis_dropdown.value, fontsize=16)\n",
    "        ax.set_xticks(ticks=x_indexes)\n",
    "        ax.set_xticklabels(week_labels)\n",
    "\n",
    "        # Move legend outside the plot\n",
    "        ax.legend(title=\"Owner\", bbox_to_anchor=(1.05, 0.75), loc='upper left', borderaxespad=0., fontsize=12, title_fontsize=14)\n",
    "\n",
    "        ax.grid(axis=\"y\", linestyle=\"--\", alpha=0.7)\n",
    "\n",
    "        # Adjust layout to fit legend\n",
    "        plt.tight_layout()\n",
    "        plt.show()\n",
    "\n",
    "    # **Update the table**\n",
    "    with output_table:\n",
    "        clear_output(wait=True)\n",
    "\n",
    "        if not selected_names:\n",
    "            return\n",
    "\n",
    "        # Create formatted DataFrame for display\n",
    "        table_data = filtered_data.pivot(index=\"week\", columns=\"owner\", values=y_axis_variable)\n",
    "        table_data = table_data[selected_names]  \n",
    "\n",
    "        # Format integer values correctly\n",
    "        if y_axis_variable in int_metrics:\n",
    "            table_data = table_data.astype(\"Int64\")  \n",
    "\n",
    "        # Display styled table with light grey background & capitalized headers\n",
    "        display(format_table(table_data, f\"{y_axis_dropdown.value} by Week & Owner\"))\n",
    "\n",
    "# Attach observers for automatic updates\n",
    "season_dropdown.observe(update_plot, names='value')\n",
    "for checkbox in name_checkboxes.values():\n",
    "    checkbox.observe(update_plot, names='value')\n",
    "y_axis_dropdown.observe(update_plot, names='value')\n",
    "\n",
    "# Display UI elements\n",
    "display(widgets.HTML(\"<b style='font-size:16px;'>Select Season:</b>\"))\n",
    "display(season_dropdown)\n",
    "display(widgets.HTML(\"<b style='font-size:16px;'>Select Owners:</b>\"))\n",
    "display(name_box)\n",
    "display(y_axis_dropdown)\n",
    "\n",
    "# Display the output widgets\n",
    "display(output_plot)\n",
    "display(output_table)\n",
    "\n",
    "# Initial plot\n",
    "update_plot()\n"
   ]
  },
  {
   "cell_type": "code",
   "execution_count": null,
   "id": "5735f0bf-7ede-4537-bb42-602092bb9b2b",
   "metadata": {},
   "outputs": [],
   "source": []
  },
  {
   "cell_type": "markdown",
   "id": "0889ae71-56d7-4cc1-ac67-04833da5b7f1",
   "metadata": {},
   "source": []
  },
  {
   "cell_type": "markdown",
   "id": "360721b8-e131-44fd-ab3e-c442f7631ccb",
   "metadata": {},
   "source": []
  },
  {
   "cell_type": "markdown",
   "id": "338ba771-3885-4008-86ff-dfb3e31a7796",
   "metadata": {},
   "source": []
  }
 ],
 "metadata": {
  "kernelspec": {
   "display_name": "Python 3 (ipykernel)",
   "language": "python",
   "name": "python3"
  },
  "language_info": {
   "codemirror_mode": {
    "name": "ipython",
    "version": 3
   },
   "file_extension": ".py",
   "mimetype": "text/x-python",
   "name": "python",
   "nbconvert_exporter": "python",
   "pygments_lexer": "ipython3",
   "version": "3.12.2"
  }
 },
 "nbformat": 4,
 "nbformat_minor": 5
}
