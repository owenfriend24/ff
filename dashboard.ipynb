{
 "cells": [
  {
   "cell_type": "markdown",
   "id": "672b21b5-90d3-45f0-908a-6c0b0bf7ca16",
   "metadata": {},
   "source": [
    "### * To enable widget functionality, start by clicking the next cell and then the play button in the above toolbar\n",
    "### * Then, for each widget you're interested in, select the box below the section title and click the play button\n",
    "### * Make sure to run the cell below the section title before making selections wtihin a widget, only one widget will be active at a time"
   ]
  },
  {
   "cell_type": "code",
   "execution_count": 1,
   "id": "3ba7cb8f-27f3-48e3-9f1d-b25ce875f64b",
   "metadata": {
    "jupyter": {
     "source_hidden": true
    }
   },
   "outputs": [],
   "source": [
    "import pandas as pd\n",
    "import ipywidgets as widgets\n",
    "import seaborn as sns\n",
    "import numpy as np\n",
    "import ipympl\n",
    "from ipywidgets import widgets, VBox, HBox\n",
    "from IPython.display import display, clear_output\n",
    "import matplotlib\n",
    "import matplotlib.pyplot as plt\n",
    "from IPython.core.display import HTML\n",
    "\n",
    "from ff_pkg import utils\n"
   ]
  },
  {
   "cell_type": "markdown",
   "id": "799d2fe2-788b-4a05-9f5f-c35495b21979",
   "metadata": {},
   "source": [
    "### Plot metrics by owner - regular season and playoffs"
   ]
  },
  {
   "cell_type": "code",
   "execution_count": 3,
   "id": "ab615c6f-8a3e-4ade-8fe0-6bc0ee5d8fd5",
   "metadata": {},
   "outputs": [
    {
     "data": {
      "application/vnd.jupyter.widget-view+json": {
       "model_id": "d65d2e3d82dd4832b62a91e5897b7ca8",
       "version_major": 2,
       "version_minor": 0
      },
      "text/plain": [
       "HTML(value=\"<b style='font-size:16px;'>Select Owners:</b>\")"
      ]
     },
     "metadata": {},
     "output_type": "display_data"
    },
    {
     "data": {
      "application/vnd.jupyter.widget-view+json": {
       "model_id": "10efc538b09b4cbc8489bdbf7388672c",
       "version_major": 2,
       "version_minor": 0
      },
      "text/plain": [
       "VBox(children=(HBox(children=(Checkbox(value=True, description='Jake'), Checkbox(value=True, description='John…"
      ]
     },
     "metadata": {},
     "output_type": "display_data"
    },
    {
     "data": {
      "application/vnd.jupyter.widget-view+json": {
       "model_id": "cc3fc3bf63a14259ae6cc76bcd94a911",
       "version_major": 2,
       "version_minor": 0
      },
      "text/plain": [
       "Dropdown(description='Y-Axis:', layout=Layout(width='300px'), options=('Total Wins', 'Total Losses', 'All-Time…"
      ]
     },
     "metadata": {},
     "output_type": "display_data"
    },
    {
     "data": {
      "application/vnd.jupyter.widget-view+json": {
       "model_id": "6b8cf33f78384f1cbdbdc8c793d9aab1",
       "version_major": 2,
       "version_minor": 0
      },
      "text/plain": [
       "Output()"
      ]
     },
     "metadata": {},
     "output_type": "display_data"
    }
   ],
   "source": [
    "utils.owner_summary()"
   ]
  },
  {
   "cell_type": "markdown",
   "id": "5df1be85-fb41-4265-b600-9a9bee4fb838",
   "metadata": {},
   "source": [
    "### Plot metrics by owner - playoffs/consolation tournament only (last two weeks)"
   ]
  },
  {
   "cell_type": "code",
   "execution_count": 2,
   "id": "c205a73d-c7a9-44a4-a9bf-1e279d927751",
   "metadata": {},
   "outputs": [
    {
     "data": {
      "application/vnd.jupyter.widget-view+json": {
       "model_id": "4ce2dab1b9ce4d7e8cf83f5b2b05fb1f",
       "version_major": 2,
       "version_minor": 0
      },
      "text/plain": [
       "HTML(value=\"<b style='font-size:16px;'>Select Owners:</b>\")"
      ]
     },
     "metadata": {},
     "output_type": "display_data"
    },
    {
     "data": {
      "application/vnd.jupyter.widget-view+json": {
       "model_id": "1c424bbef0c74f509af9121abaf5dc2e",
       "version_major": 2,
       "version_minor": 0
      },
      "text/plain": [
       "VBox(children=(HBox(children=(Checkbox(value=True, description='Jake'), Checkbox(value=True, description='John…"
      ]
     },
     "metadata": {},
     "output_type": "display_data"
    },
    {
     "data": {
      "application/vnd.jupyter.widget-view+json": {
       "model_id": "9e9844733b28483b8ed5a85931d6609d",
       "version_major": 2,
       "version_minor": 0
      },
      "text/plain": [
       "Dropdown(description='Y-Axis:', layout=Layout(width='300px'), options=('Playoff Wins', 'Playoff Points For', '…"
      ]
     },
     "metadata": {},
     "output_type": "display_data"
    },
    {
     "data": {
      "application/vnd.jupyter.widget-view+json": {
       "model_id": "b28f5aae7c3f49c4ac97d1efee00f5a2",
       "version_major": 2,
       "version_minor": 0
      },
      "text/plain": [
       "Output()"
      ]
     },
     "metadata": {},
     "output_type": "display_data"
    }
   ],
   "source": [
    "utils.playoff_summary()"
   ]
  },
  {
   "cell_type": "markdown",
   "id": "5ed5f0f8-beba-4765-a931-8bc2c142dfe7",
   "metadata": {},
   "source": [
    "### Head-to-head comparisons"
   ]
  },
  {
   "cell_type": "code",
   "execution_count": 5,
   "id": "1b1139b9-f434-421f-8990-640a36e23e76",
   "metadata": {},
   "outputs": [
    {
     "data": {
      "application/vnd.jupyter.widget-view+json": {
       "model_id": "03bd69b008894f9d98003c99fd4fb812",
       "version_major": 2,
       "version_minor": 0
      },
      "text/plain": [
       "HTML(value=\"<b style='font-size:16px;'>Select Owners to Compare:</b>\")"
      ]
     },
     "metadata": {},
     "output_type": "display_data"
    },
    {
     "data": {
      "application/vnd.jupyter.widget-view+json": {
       "model_id": "86e14aeb1eb84d3180a75dcd3c28637f",
       "version_major": 2,
       "version_minor": 0
      },
      "text/plain": [
       "HBox(children=(Dropdown(description='Owner 1:', layout=Layout(width='200px'), options=('Jake', 'John', 'Kevin'…"
      ]
     },
     "metadata": {},
     "output_type": "display_data"
    },
    {
     "data": {
      "application/vnd.jupyter.widget-view+json": {
       "model_id": "e2a8274d2c094722b874ab7d266adb1c",
       "version_major": 2,
       "version_minor": 0
      },
      "text/plain": [
       "Dropdown(description='Y-Axis:', layout=Layout(width='250px'), options=('Wins', 'Points'), style=DescriptionSty…"
      ]
     },
     "metadata": {},
     "output_type": "display_data"
    },
    {
     "data": {
      "application/vnd.jupyter.widget-view+json": {
       "model_id": "107cd55ba9774143b8053b4b90d75589",
       "version_major": 2,
       "version_minor": 0
      },
      "text/plain": [
       "Output()"
      ]
     },
     "metadata": {},
     "output_type": "display_data"
    }
   ],
   "source": [
    "utils.head_to_head()"
   ]
  },
  {
   "cell_type": "markdown",
   "id": "35c0d6dd-2ed2-4c8f-b4be-23439fd5fc70",
   "metadata": {},
   "source": [
    "### trends by owner by season"
   ]
  },
  {
   "cell_type": "code",
   "execution_count": 7,
   "id": "d16f9982-9fa5-4bf0-871a-8e7ba38dc71c",
   "metadata": {},
   "outputs": [
    {
     "data": {
      "application/vnd.jupyter.widget-view+json": {
       "model_id": "aa0ec8622a6a4b24baa0ca922a4740c3",
       "version_major": 2,
       "version_minor": 0
      },
      "text/plain": [
       "VBox(children=(HBox(children=(Checkbox(value=True, description='2015'), Checkbox(value=True, description='2016…"
      ]
     },
     "metadata": {},
     "output_type": "display_data"
    },
    {
     "data": {
      "application/vnd.jupyter.widget-view+json": {
       "model_id": "846875d90a184e99842a4d155b15322b",
       "version_major": 2,
       "version_minor": 0
      },
      "text/plain": [
       "VBox(children=(HBox(children=(Checkbox(value=True, description='Jake'), Checkbox(value=True, description='John…"
      ]
     },
     "metadata": {},
     "output_type": "display_data"
    },
    {
     "data": {
      "application/vnd.jupyter.widget-view+json": {
       "model_id": "37881b551100476e8fe20db05157a0f6",
       "version_major": 2,
       "version_minor": 0
      },
      "text/plain": [
       "Dropdown(description='Y-Axis:', layout=Layout(width='250px'), options=('Points For', 'Points Against', 'Total …"
      ]
     },
     "metadata": {},
     "output_type": "display_data"
    },
    {
     "data": {
      "application/vnd.jupyter.widget-view+json": {
       "model_id": "a01a83835dd7487eb0833d485a5c4c3a",
       "version_major": 2,
       "version_minor": 0
      },
      "text/plain": [
       "Dropdown(description='Plot Type:', layout=Layout(width='150px'), options=('Bar', 'Line'), style=DescriptionSty…"
      ]
     },
     "metadata": {},
     "output_type": "display_data"
    },
    {
     "data": {
      "application/vnd.jupyter.widget-view+json": {
       "model_id": "7096ffddf1cb4200b19b2154db36e124",
       "version_major": 2,
       "version_minor": 0
      },
      "text/plain": [
       "Output()"
      ]
     },
     "metadata": {},
     "output_type": "display_data"
    },
    {
     "data": {
      "application/vnd.jupyter.widget-view+json": {
       "model_id": "bc319fc724d84bcda3cf66b84a8916fa",
       "version_major": 2,
       "version_minor": 0
      },
      "text/plain": [
       "Output()"
      ]
     },
     "metadata": {},
     "output_type": "display_data"
    }
   ],
   "source": [
    "utils.season_by_owner()"
   ]
  },
  {
   "cell_type": "markdown",
   "id": "4df66cd0-1144-40d9-a4a9-8930cdfbebdb",
   "metadata": {},
   "source": [
    "### Plot metrics by week, owner, and season"
   ]
  },
  {
   "cell_type": "code",
   "execution_count": 9,
   "id": "6d53913f-1cfb-449d-a226-02d6595eb7e7",
   "metadata": {},
   "outputs": [
    {
     "data": {
      "application/vnd.jupyter.widget-view+json": {
       "model_id": "1535c39588a84e33a49eca691818f7ab",
       "version_major": 2,
       "version_minor": 0
      },
      "text/plain": [
       "HTML(value=\"<b style='font-size:16px;'>Select Season:</b>\")"
      ]
     },
     "metadata": {},
     "output_type": "display_data"
    },
    {
     "data": {
      "application/vnd.jupyter.widget-view+json": {
       "model_id": "f949b3780c1c40f0ad5449e1badf3fa8",
       "version_major": 2,
       "version_minor": 0
      },
      "text/plain": [
       "Dropdown(description='Season:', layout=Layout(width='150px'), options=(2015, 2016, 2017, 2018, 2019, 2020, 202…"
      ]
     },
     "metadata": {},
     "output_type": "display_data"
    },
    {
     "data": {
      "application/vnd.jupyter.widget-view+json": {
       "model_id": "d979a715163c4360a7a52effd870c400",
       "version_major": 2,
       "version_minor": 0
      },
      "text/plain": [
       "HTML(value=\"<b style='font-size:16px;'>Select Owners:</b>\")"
      ]
     },
     "metadata": {},
     "output_type": "display_data"
    },
    {
     "data": {
      "application/vnd.jupyter.widget-view+json": {
       "model_id": "f592eeca77ff4d24a7c9173db74df79a",
       "version_major": 2,
       "version_minor": 0
      },
      "text/plain": [
       "VBox(children=(HBox(children=(Checkbox(value=True, description='Jake'), Checkbox(value=True, description='John…"
      ]
     },
     "metadata": {},
     "output_type": "display_data"
    },
    {
     "data": {
      "application/vnd.jupyter.widget-view+json": {
       "model_id": "1195638c36eb4f7699e3dbda890775dc",
       "version_major": 2,
       "version_minor": 0
      },
      "text/plain": [
       "Dropdown(description='Y-Axis:', layout=Layout(width='250px'), options=('Points For', 'Points Against', 'Wins',…"
      ]
     },
     "metadata": {},
     "output_type": "display_data"
    },
    {
     "data": {
      "application/vnd.jupyter.widget-view+json": {
       "model_id": "032a6c1561414c929afc25251a51453b",
       "version_major": 2,
       "version_minor": 0
      },
      "text/plain": [
       "Output()"
      ]
     },
     "metadata": {},
     "output_type": "display_data"
    },
    {
     "data": {
      "application/vnd.jupyter.widget-view+json": {
       "model_id": "854d304454eb4465a5ab03178c55299d",
       "version_major": 2,
       "version_minor": 0
      },
      "text/plain": [
       "Output()"
      ]
     },
     "metadata": {},
     "output_type": "display_data"
    }
   ],
   "source": [
    "utils.weekly_season()"
   ]
  },
  {
   "cell_type": "code",
   "execution_count": null,
   "id": "5735f0bf-7ede-4537-bb42-602092bb9b2b",
   "metadata": {},
   "outputs": [],
   "source": []
  },
  {
   "cell_type": "markdown",
   "id": "0889ae71-56d7-4cc1-ac67-04833da5b7f1",
   "metadata": {},
   "source": []
  },
  {
   "cell_type": "markdown",
   "id": "360721b8-e131-44fd-ab3e-c442f7631ccb",
   "metadata": {},
   "source": []
  },
  {
   "cell_type": "markdown",
   "id": "338ba771-3885-4008-86ff-dfb3e31a7796",
   "metadata": {},
   "source": []
  }
 ],
 "metadata": {
  "kernelspec": {
   "display_name": "Python 3 (ipykernel)",
   "language": "python",
   "name": "python3"
  },
  "language_info": {
   "codemirror_mode": {
    "name": "ipython",
    "version": 3
   },
   "file_extension": ".py",
   "mimetype": "text/x-python",
   "name": "python",
   "nbconvert_exporter": "python",
   "pygments_lexer": "ipython3",
   "version": "3.12.2"
  }
 },
 "nbformat": 4,
 "nbformat_minor": 5
}
